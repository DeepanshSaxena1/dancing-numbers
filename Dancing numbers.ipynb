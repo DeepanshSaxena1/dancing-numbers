{
 "cells": [
  {
   "cell_type": "raw",
   "id": "34df1fe0",
   "metadata": {},
   "source": [
    "A number is called as a \"Dancing Number\" if all adjacent digits in it differ by 1. Print all dancing numbers less than or equal to a given\n",
    "\n",
    "number in ascending order Note: The difference between 9' and '0' is not considered as 1.\n",
    "\n",
    "Note: All single digit numbers are dancing numbers by default\n",
    "\n",
    "Input:\n",
    "\n",
    "105\n",
    "\n",
    "Output: (All dancing numbers must be space separated in ascendity order) 012345678910 12 21 23 32 34 43 45 54 56 65 67 76 78 87 89 98 101\n"
   ]
  },
  {
   "cell_type": "code",
   "execution_count": 3,
   "id": "3683a8ce",
   "metadata": {},
   "outputs": [
    {
     "name": "stdout",
     "output_type": "stream",
     "text": [
      "105\n",
      "[0, 1, 2, 3, 4, 5, 6, 7, 8, 9, 10, 12, 21, 23, 32, 34, 43, 45, 54, 56, 65, 67, 76, 78, 87, 89, 98, 101]\n"
     ]
    }
   ],
   "source": [
    "import sys\n",
    "input_from_question=input()\n",
    "\n",
    "def is_dancing_number(num):\n",
    "# All single digit numbers are dancing numbers\n",
    "    if num < 10:\n",
    "        return True\n",
    "# Check if all adjacent digits differ by 1\n",
    "    while num > 0:\n",
    "        digit1 = num % 10\n",
    "        num //= 10\n",
    "        if num == 0:\n",
    "            return True\n",
    "        digit2 = num % 10\n",
    "        if abs(digit1 - digit2) != 1:\n",
    "            return False\n",
    "    return True\n",
    "\n",
    "def solution(input_from_question):\n",
    "    n = int(input_from_question)\n",
    "    dancing_numbers = []\n",
    "    for i in range(n+1):\n",
    "        if is_dancing_number(i):\n",
    "            dancing_numbers.append(i)\n",
    "    return dancing_numbers\n",
    "\n",
    "print(solution(input_from_question))\n",
    "\n",
    "\n",
    "\n"
   ]
  },
  {
   "cell_type": "code",
   "execution_count": null,
   "id": "cb9144f6",
   "metadata": {},
   "outputs": [],
   "source": []
  }
 ],
 "metadata": {
  "kernelspec": {
   "display_name": "Python 3 (ipykernel)",
   "language": "python",
   "name": "python3"
  },
  "language_info": {
   "codemirror_mode": {
    "name": "ipython",
    "version": 3
   },
   "file_extension": ".py",
   "mimetype": "text/x-python",
   "name": "python",
   "nbconvert_exporter": "python",
   "pygments_lexer": "ipython3",
   "version": "3.9.13"
  }
 },
 "nbformat": 4,
 "nbformat_minor": 5
}
